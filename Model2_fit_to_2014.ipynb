{
 "cells": [
  {
   "cell_type": "code",
   "execution_count": 1,
   "metadata": {},
   "outputs": [
    {
     "name": "stderr",
     "output_type": "stream",
     "text": [
      "/anaconda3/envs/tensorflow35/lib/python3.5/site-packages/h5py/__init__.py:36: FutureWarning: Conversion of the second argument of issubdtype from `float` to `np.floating` is deprecated. In future, it will be treated as `np.float64 == np.dtype(float).type`.\n",
      "  from ._conv import register_converters as _register_converters\n",
      "Using TensorFlow backend.\n"
     ]
    }
   ],
   "source": [
    "from keras import models\n",
    "from keras import layers\n",
    "import pandas as pd\n",
    "import numpy as np\n",
    "import datetime as DT\n",
    "import matplotlib.pyplot as plt\n",
    "from sklearn.metrics import roc_curve, auc\n",
    "from sklearn.model_selection import train_test_split\n"
   ]
  },
  {
   "cell_type": "code",
   "execution_count": 2,
   "metadata": {},
   "outputs": [],
   "source": [
    "#Load Monroe vote history data\n",
    "Monroe = pd.read_table(\"/Users/isaac/Dropbox (UFL)/DeepLearning_Voter_Turnout/20180109_VoterHistory/MON_H_20180109.txt\",header=None, sep = \"\\t\", low_memory=False)\n",
    "Monroe.columns = [\"County Code\", \"VoterID\", \"Election_Date\", \"Election Type\", \"History Code\"]\n",
    "\n",
    "\n",
    "##Load party registration data\n",
    "Monroe_reg = pd.read_table(\"/Users/isaac/Dropbox (UFL)/DeepLearning_Voter_Turnout/20180109_VoterDetail/MON_20180109.txt\",header=None, sep = \"\\t\", low_memory=False)\n",
    "Monroe_reg.columns = [\"CountyCode\", \"VoterID\", \"NameLast\", \"NameSuffix\", \"NameFirst\", \"NameMiddle\", \"Requestedpublicrecordsexemption\", \"ResidenceAddressLine1\", \"ResidenceAddressLine2\", \"ResidenceCity(USPS)\", \"ResidenceState\", \"ResidenceZipcode\", \"MailingAddressLine1\", \"MailingAddressLine2\", \"MailingAddressLine3\", \"MailingCity\", \"MailingState\", \"MailingZipcode\", \"MailingCountry\", \"Gender\", \"Race\", \"BirthDate\", \"RegistrationDate\", \"PartyAffiliation\", \"Precinct\", \"PrecinctGroup\", \"PrecinctSplit\", \"PrecinctSuffix\", \"VoterStatus\", \"CongressionalDistrict\", \"HouseDistrict\", \"SenateDistrict\", \"CountyCommissionDistri\", \"SchoolBoardDistrict\", \"DaytimeAreaCode\", \"DaytimePhoneNumber\", \"DaytimePhoneExtension\", \"Emailaddress\"]\n",
    "imp_cols = [0, 1, 11, 19, 20,21,22,23,24,28,29,30,31,32,33]\n",
    "Monroe_reg_red = Monroe_reg.iloc[:,imp_cols]\n",
    "\n",
    "##Merge - Monroe\n",
    "monroe_merge = Monroe_reg_red.merge(Monroe, how=\"left\", on = \"VoterID\")\n",
    "monroe_merge[\"Election_Date\"] = pd.to_datetime(monroe_merge[\"Election_Date\"])\n",
    "monroe_merge = monroe_merge.sort_values(\"Election_Date\")\n",
    "monroe_merge[\"count\"] = 1\n",
    "\n",
    "#Convert to wide data\n",
    "wide_data = monroe_merge.pivot_table(index='VoterID',columns='Election_Date',values='count', aggfunc= \"max\")\n",
    "wide_data.shape\n",
    "wide_data.columns = wide_data.columns.map(lambda t: t.strftime('%Y-%m'))\n",
    "wide_data[wide_data.isnull()] =0\n",
    "wide_data_demos = wide_data.merge(Monroe_reg_red, how=\"left\",left_index=True, right_on = \"VoterID\")"
   ]
  },
  {
   "cell_type": "code",
   "execution_count": 3,
   "metadata": {},
   "outputs": [
    {
     "name": "stdout",
     "output_type": "stream",
     "text": [
      "0.5121356758403575\n",
      "0.5112730411821459\n"
     ]
    }
   ],
   "source": [
    "#Format training data\n",
    "now = pd.Timestamp(DT.datetime.now())\n",
    "train_data = wide_data_demos.drop(['2014-11','2015-10', '2015-11', '2016-03','2016-08', '2016-11', '2017-03', 'VoterID', 'CountyCode'], axis=1)\n",
    "train_data['Age'] = (now - pd.to_datetime(wide_data_demos['BirthDate'])).astype('<m8[Y]')  \n",
    "train_data['Years_reg'] = (now - pd.to_datetime(wide_data_demos['RegistrationDate'])).astype('<m8[Y]')  \n",
    "train_data = train_data.drop(['RegistrationDate', 'BirthDate'], axis = 1)\n",
    "train_data.iloc[:,31:42] = train_data.iloc[:,31:42].apply(lambda x: pd.factorize(x)[0])\n",
    "\n",
    "pred_election = wide_data_demos['2014-11']\n",
    "\n",
    "#Reduced data\n",
    "red_data = train_data.iloc[:,0:35]\n",
    "red_data['Gender'] = train_data['Gender']\n",
    "red_data['PartyAffiliation'] = train_data['PartyAffiliation']\n",
    "red_data['VoterStatus'] = train_data['VoterStatus']\n",
    "red_data['Race'] = train_data['Race']\n",
    "red_data['Precinct'] = train_data['Precinct']\n",
    "red_data['Years_reg'] =  train_data['Years_reg']/ np.max(train_data['Years_reg'])\n",
    "red_data.dtypes\n",
    "\n",
    "#Split test and training\n",
    "seed = 7\n",
    "np.random.seed(seed)\n",
    "red_train_data, red_test_data, train_election, test_election = train_test_split(red_data, \n",
    "                                                                                pred_election, \n",
    "                                                                                test_size=0.20, \n",
    "                                                                                random_state=seed)\n",
    "\n",
    "#Check turnout for splits elections\n",
    "print(np.mean(test_election))\n",
    "print(np.mean(train_election))\n"
   ]
  },
  {
   "cell_type": "code",
   "execution_count": 4,
   "metadata": {},
   "outputs": [
    {
     "name": "stdout",
     "output_type": "stream",
     "text": [
      "Epoch 1/20\n",
      "39386/39386 [==============================] - 7s 175us/step - loss: 0.5675 - acc: 0.7228\n",
      "Epoch 2/20\n",
      "39386/39386 [==============================] - 5s 129us/step - loss: 0.4842 - acc: 0.8022\n",
      "Epoch 3/20\n",
      "39386/39386 [==============================] - 5s 123us/step - loss: 0.4623 - acc: 0.8037\n",
      "Epoch 4/20\n",
      "39386/39386 [==============================] - 5s 139us/step - loss: 0.4513 - acc: 0.8039\n",
      "Epoch 5/20\n",
      "39386/39386 [==============================] - 6s 149us/step - loss: 0.4429 - acc: 0.8068\n",
      "Epoch 6/20\n",
      "39386/39386 [==============================] - 5s 125us/step - loss: 0.4406 - acc: 0.8054\n",
      "Epoch 7/20\n",
      "39386/39386 [==============================] - 6s 151us/step - loss: 0.4375 - acc: 0.8063\n",
      "Epoch 8/20\n",
      "39386/39386 [==============================] - 5s 131us/step - loss: 0.4359 - acc: 0.8078\n",
      "Epoch 9/20\n",
      "39386/39386 [==============================] - 5s 133us/step - loss: 0.4348 - acc: 0.8073\n",
      "Epoch 10/20\n",
      "39386/39386 [==============================] - 5s 138us/step - loss: 0.4336 - acc: 0.8082\n",
      "Epoch 11/20\n",
      "39386/39386 [==============================] - 6s 148us/step - loss: 0.4347 - acc: 0.8075\n",
      "Epoch 12/20\n",
      "39386/39386 [==============================] - 6s 154us/step - loss: 0.4324 - acc: 0.8083\n",
      "Epoch 13/20\n",
      "39386/39386 [==============================] - 5s 135us/step - loss: 0.4316 - acc: 0.8091\n",
      "Epoch 14/20\n",
      "39386/39386 [==============================] - 6s 142us/step - loss: 0.4310 - acc: 0.8099\n",
      "Epoch 15/20\n",
      "39386/39386 [==============================] - 6s 163us/step - loss: 0.4303 - acc: 0.8098\n",
      "Epoch 16/20\n",
      "39386/39386 [==============================] - 5s 130us/step - loss: 0.4293 - acc: 0.8091\n",
      "Epoch 17/20\n",
      "39386/39386 [==============================] - 6s 143us/step - loss: 0.4283 - acc: 0.8100\n",
      "Epoch 18/20\n",
      "39386/39386 [==============================] - 6s 143us/step - loss: 0.4268 - acc: 0.8101\n",
      "Epoch 19/20\n",
      "39386/39386 [==============================] - 5s 123us/step - loss: 0.4259 - acc: 0.8100\n",
      "Epoch 20/20\n",
      "39386/39386 [==============================] - 5s 125us/step - loss: 0.4249 - acc: 0.8104\n"
     ]
    },
    {
     "data": {
      "text/plain": [
       "<keras.callbacks.History at 0x1a18b38518>"
      ]
     },
     "execution_count": 4,
     "metadata": {},
     "output_type": "execute_result"
    }
   ],
   "source": [
    "network = models.Sequential()\n",
    "network.add(layers.Dense(38, activation='relu', input_shape=(red_train_data.shape[1],)))\n",
    "network.add(layers.Dense(38, activation='relu'))\n",
    "network.add(layers.Dense(20, activation='relu'))\n",
    "network.add(layers.Dense(20, activation='relu'))\n",
    "network.add(layers.Dense(10, activation='relu'))\n",
    "network.add(layers.Dense(10, activation='relu'))\n",
    "network.add(layers.Dense(5, activation='relu'))\n",
    "network.add(layers.Dense(5, activation='relu'))\n",
    "network.add(layers.Dense(1, activation='sigmoid'))\n",
    "\n",
    "\n",
    "network.compile(optimizer='adam',\n",
    "                loss='binary_crossentropy',\n",
    "                metrics=['acc'])\n",
    "\n",
    "\n",
    "network.fit(red_train_data,\n",
    "            train_election, \n",
    "            epochs=20, \n",
    "            batch_size=80)"
   ]
  },
  {
   "cell_type": "code",
   "execution_count": 5,
   "metadata": {},
   "outputs": [
    {
     "name": "stdout",
     "output_type": "stream",
     "text": [
      "9847/9847 [==============================] - 1s 64us/step\n"
     ]
    },
    {
     "data": {
      "text/plain": [
       "[0.4386745952277834, 0.8086726921723556]"
      ]
     },
     "execution_count": 5,
     "metadata": {},
     "output_type": "execute_result"
    }
   ],
   "source": [
    "#Accuracy on test set\n",
    "network.evaluate(red_test_data, test_election)\n"
   ]
  },
  {
   "cell_type": "code",
   "execution_count": 6,
   "metadata": {},
   "outputs": [
    {
     "name": "stdout",
     "output_type": "stream",
     "text": [
      "0.5483230361871139\n",
      "0.701326751002777\n",
      "0.7346198251690582\n",
      "0.7896519285042333\n",
      "0.8362784756227379\n",
      "0.860032550569635\n",
      "0.8868813825608798\n",
      "0.9136868064118372\n",
      "0.9428811423771525\n"
     ]
    }
   ],
   "source": [
    "preds = network.predict(red_test_data)\n",
    "\n",
    "for x in np.arange(.1,1, .1):\n",
    "    print(np.mean(test_election.iloc[(preds > x).flatten().tolist()] == 1))\n",
    "#    print(np.mean(test_election.iloc[(preds < x).flatten().tolist()] == 0))"
   ]
  },
  {
   "cell_type": "code",
   "execution_count": 7,
   "metadata": {},
   "outputs": [
    {
     "data": {
      "image/png": "[encoded data removed]",
      "text/plain": [
       "<matplotlib.figure.Figure at 0x1a188a0d68>"
      ]
     },
     "metadata": {},
     "output_type": "display_data"
    }
   ],
   "source": [
    "##ROC curve\n",
    "fpr, tpr, _ = roc_curve(test_election, preds)\n",
    "roc_auc = auc(fpr, tpr)\n",
    "# Compute micro-average ROC curve and ROC area\n",
    "\n",
    "plt.figure()\n",
    "lw = 2\n",
    "plt.plot(fpr, tpr, color='darkorange',\n",
    "         lw=lw, label='ROC curve (area = %0.2f)' % roc_auc)\n",
    "plt.plot([0, 1], [0, 1], color='navy', lw=lw, linestyle='--')\n",
    "plt.xlim([0.0, 1.0])\n",
    "plt.ylim([0.0, 1.05])\n",
    "plt.xlabel('False Positive Rate')\n",
    "plt.ylabel('True Positive Rate')\n",
    "plt.title('ROC Curve - Trainined on 2014 and Predicting 2014 Turnout (held out)')\n",
    "plt.legend(loc=\"lower right\")\n",
    "plt.show()\n"
   ]
  }
 ],
 "metadata": {
  "kernelspec": {
   "display_name": "Python 3",
   "language": "python",
   "name": "python3"
  },
  "language_info": {
   "codemirror_mode": {
    "name": "ipython",
    "version": 3
   },
   "file_extension": ".py",
   "mimetype": "text/x-python",
   "name": "python",
   "nbconvert_exporter": "python",
   "pygments_lexer": "ipython3",
   "version": "3.5.4"
  }
 },
 "nbformat": 4,
 "nbformat_minor": 2
}
