{
 "cells": [
  {
   "cell_type": "code",
   "execution_count": 1,
   "metadata": {},
   "outputs": [
    {
     "name": "stderr",
     "output_type": "stream",
     "text": [
      "/anaconda3/envs/tensorflow35/lib/python3.5/site-packages/h5py/__init__.py:36: FutureWarning: Conversion of the second argument of issubdtype from `float` to `np.floating` is deprecated. In future, it will be treated as `np.float64 == np.dtype(float).type`.\n",
      "  from ._conv import register_converters as _register_converters\n",
      "Using TensorFlow backend.\n"
     ]
    }
   ],
   "source": [
    "from keras import models\n",
    "from keras import layers\n",
    "import pandas as pd\n",
    "import numpy as np\n",
    "import datetime as DT\n",
    "import matplotlib.pyplot as plt\n",
    "from sklearn.metrics import roc_curve, auc\n",
    "from sklearn.model_selection import train_test_split\n"
   ]
  },
  {
   "cell_type": "code",
   "execution_count": 14,
   "metadata": {},
   "outputs": [],
   "source": [
    "#Load Monroe vote history data\n",
    "Monroe = pd.read_table(\"/Users/isaac/Dropbox (UFL)/DeepLearning_Voter_Turnout/20180109_VoterHistory/MON_H_20180109.txt\",header=None, sep = \"\\t\", low_memory=False)\n",
    "Monroe.columns = [\"County Code\", \"VoterID\", \"Election_Date\", \"Election Type\", \"History Code\"]\n",
    "\n",
    "\n",
    "##Load party registration data\n",
    "Monroe_reg = pd.read_table(\"/Users/isaac/Dropbox (UFL)/DeepLearning_Voter_Turnout/20180109_VoterDetail/MON_20180109.txt\",header=None, sep = \"\\t\", low_memory=False)\n",
    "Monroe_reg.columns = [\"CountyCode\", \"VoterID\", \"NameLast\", \"NameSuffix\", \"NameFirst\", \"NameMiddle\", \"Requestedpublicrecordsexemption\", \"ResidenceAddressLine1\", \"ResidenceAddressLine2\", \"ResidenceCity(USPS)\", \"ResidenceState\", \"ResidenceZipcode\", \"MailingAddressLine1\", \"MailingAddressLine2\", \"MailingAddressLine3\", \"MailingCity\", \"MailingState\", \"MailingZipcode\", \"MailingCountry\", \"Gender\", \"Race\", \"BirthDate\", \"RegistrationDate\", \"PartyAffiliation\", \"Precinct\", \"PrecinctGroup\", \"PrecinctSplit\", \"PrecinctSuffix\", \"VoterStatus\", \"CongressionalDistrict\", \"HouseDistrict\", \"SenateDistrict\", \"CountyCommissionDistri\", \"SchoolBoardDistrict\", \"DaytimeAreaCode\", \"DaytimePhoneNumber\", \"DaytimePhoneExtension\", \"Emailaddress\"]\n",
    "imp_cols = [0, 1, 11, 19, 20,21,22,23,24,28,29,30,31,32,33]\n",
    "Monroe_reg_red = Monroe_reg.iloc[:,imp_cols]\n",
    "\n",
    "##Merge - Monroe\n",
    "monroe_merge = Monroe_reg_red.merge(Monroe, how=\"left\", on = \"VoterID\")\n",
    "monroe_merge[\"Election_Date\"] = pd.to_datetime(monroe_merge[\"Election_Date\"])\n",
    "monroe_merge = monroe_merge.sort_values(\"Election_Date\")\n",
    "monroe_merge[\"count\"] = 1\n",
    "\n",
    "#Convert to wide data\n",
    "wide_data = monroe_merge.pivot_table(index='VoterID',columns='Election_Date',values='count', aggfunc= \"max\")\n",
    "wide_data.shape\n",
    "wide_data.columns = wide_data.columns.map(lambda t: t.strftime('%Y-%m'))\n",
    "wide_data[wide_data.isnull()] =0\n",
    "wide_data_demos = wide_data.merge(Monroe_reg_red, how=\"left\",left_index=True, right_on = \"VoterID\")\n"
   ]
  },
  {
   "cell_type": "code",
   "execution_count": 13,
   "metadata": {},
   "outputs": [],
   "source": [
    "#Format training data\n",
    "now = pd.Timestamp(DT.datetime.now())\n",
    "train_data = wide_data_demos.drop(['2010-11', '2014-11','2015-10', '2015-11', '2016-03','2016-08', '2016-11', '2017-03', 'VoterID', 'CountyCode'], axis=1)\n",
    "train_data['Age'] = (now - pd.to_datetime(wide_data_demos['BirthDate'])).astype('<m8[Y]')  \n",
    "train_data['Years_reg'] = (now - pd.to_datetime(wide_data_demos['RegistrationDate'])).astype('<m8[Y]')  \n",
    "train_data = train_data.drop(['RegistrationDate', 'BirthDate'], axis = 1)\n",
    "train_data.iloc[:,31:42] = train_data.iloc[:,31:42].apply(lambda x: pd.factorize(x)[0])\n",
    "\n",
    "#Training and test elections\n",
    "train_election = wide_data_demos['2010-11']\n",
    "test_election = wide_data_demos['2014-11']\n",
    "\n",
    "#Reduced data\n",
    "red_train_data = train_data.iloc[:,0:37]\n",
    "red_train_data['Gender'] = train_data['Gender']\n",
    "red_train_data['PartyAffiliation'] = train_data['PartyAffiliation']\n",
    "red_train_data['VoterStatus'] = train_data['VoterStatus']\n",
    "\n",
    "red_train_data['Years_reg'] =  train_data['Years_reg']/ np.max(train_data['Years_reg'])"
   ]
  },
  {
   "cell_type": "code",
   "execution_count": 4,
   "metadata": {},
   "outputs": [
    {
     "name": "stdout",
     "output_type": "stream",
     "text": [
      "Epoch 1/20\n",
      "49233/49233 [==============================] - 9s 178us/step - loss: 0.5295 - acc: 0.8283\n",
      "Epoch 2/20\n",
      "49233/49233 [==============================] - 6s 129us/step - loss: 0.4201 - acc: 0.8654\n",
      "Epoch 3/20\n",
      "49233/49233 [==============================] - 7s 143us/step - loss: 0.3726 - acc: 0.8685\n",
      "Epoch 4/20\n",
      "49233/49233 [==============================] - 7s 140us/step - loss: 0.3441 - acc: 0.8689\n",
      "Epoch 5/20\n",
      "49233/49233 [==============================] - 7s 138us/step - loss: 0.3264 - acc: 0.8703\n",
      "Epoch 6/20\n",
      "49233/49233 [==============================] - 7s 140us/step - loss: 0.3163 - acc: 0.8709\n",
      "Epoch 7/20\n",
      "49233/49233 [==============================] - 8s 155us/step - loss: 0.3096 - acc: 0.8702\n",
      "Epoch 8/20\n",
      "49233/49233 [==============================] - 7s 140us/step - loss: 0.3030 - acc: 0.8724\n",
      "Epoch 9/20\n",
      "49233/49233 [==============================] - 7s 139us/step - loss: 0.2992 - acc: 0.8713\n",
      "Epoch 10/20\n",
      "49233/49233 [==============================] - 7s 149us/step - loss: 0.2963 - acc: 0.8725\n",
      "Epoch 11/20\n",
      "49233/49233 [==============================] - 7s 137us/step - loss: 0.2945 - acc: 0.8719\n",
      "Epoch 12/20\n",
      "49233/49233 [==============================] - 7s 143us/step - loss: 0.2928 - acc: 0.8719\n",
      "Epoch 13/20\n",
      "49233/49233 [==============================] - 7s 152us/step - loss: 0.2914 - acc: 0.8724\n",
      "Epoch 14/20\n",
      "49233/49233 [==============================] - 6s 128us/step - loss: 0.2897 - acc: 0.8721\n",
      "Epoch 15/20\n",
      "49233/49233 [==============================] - 6s 124us/step - loss: 0.2887 - acc: 0.8732\n",
      "Epoch 16/20\n",
      "49233/49233 [==============================] - 7s 150us/step - loss: 0.2871 - acc: 0.8725\n",
      "Epoch 17/20\n",
      "49233/49233 [==============================] - 7s 142us/step - loss: 0.2852 - acc: 0.8740\n",
      "Epoch 18/20\n",
      "49233/49233 [==============================] - 7s 141us/step - loss: 0.2848 - acc: 0.8738\n",
      "Epoch 19/20\n",
      "49233/49233 [==============================] - 7s 139us/step - loss: 0.2844 - acc: 0.8736\n",
      "Epoch 20/20\n",
      "49233/49233 [==============================] - 7s 137us/step - loss: 0.2843 - acc: 0.8732\n"
     ]
    },
    {
     "data": {
      "text/plain": [
       "<keras.callbacks.History at 0x1a20d333c8>"
      ]
     },
     "execution_count": 4,
     "metadata": {},
     "output_type": "execute_result"
    }
   ],
   "source": [
    "#Set up and fit the model\n",
    "network = models.Sequential()\n",
    "network.add(layers.Dense(38, activation='relu', input_shape=(red_train_data.shape[1],)))\n",
    "network.add(layers.Dense(38, activation='relu'))\n",
    "network.add(layers.Dense(20, activation='relu'))\n",
    "network.add(layers.Dense(20, activation='relu'))\n",
    "network.add(layers.Dense(10, activation='relu'))\n",
    "network.add(layers.Dense(10, activation='relu'))\n",
    "network.add(layers.Dense(5, activation='relu'))\n",
    "network.add(layers.Dense(5, activation='relu'))\n",
    "network.add(layers.Dense(1, activation='sigmoid'))\n",
    "\n",
    "\n",
    "network.compile(optimizer='adam',\n",
    "                loss='binary_crossentropy',\n",
    "                metrics=['acc'])\n",
    "\n",
    "\n",
    "network.fit(red_train_data,train_election, epochs=20, batch_size=80)\n",
    "\n",
    "\n"
   ]
  },
  {
   "cell_type": "code",
   "execution_count": 7,
   "metadata": {},
   "outputs": [
    {
     "name": "stdout",
     "output_type": "stream",
     "text": [
      "49233/49233 [==============================] - 3s 64us/step\n"
     ]
    },
    {
     "data": {
      "text/plain": [
       "[0.7107338336103864, 0.7423476123738143]"
      ]
     },
     "execution_count": 7,
     "metadata": {},
     "output_type": "execute_result"
    }
   ],
   "source": [
    "#Accuracy on test set\n",
    "network.evaluate(red_train_data, test_election)\n",
    "\n"
   ]
  },
  {
   "cell_type": "code",
   "execution_count": 8,
   "metadata": {},
   "outputs": [
    {
     "name": "stdout",
     "output_type": "stream",
     "text": [
      "0.7075384772890148\n",
      "0.7475314005845644\n",
      "0.766703130259172\n",
      "0.8034872761545712\n",
      "0.8361943711994834\n",
      "0.857748075660839\n",
      "0.8799972850064481\n",
      "0.9041248606465998\n",
      "0.9338860103626943\n"
     ]
    }
   ],
   "source": [
    "preds = network.predict(red_train_data)\n",
    "for x in np.arange(.1,1, .1):\n",
    "    print(np.mean(test_election.iloc[(preds > x).flatten().tolist()] == 1))\n",
    "#    print(np.mean(test_election.iloc[(preds > x).flatten().tolist()] == 0))"
   ]
  },
  {
   "cell_type": "code",
   "execution_count": 12,
   "metadata": {},
   "outputs": [
    {
     "name": "stdout",
     "output_type": "stream",
     "text": [
      "25180.0\n",
      "12965.0\n",
      "0.8799972850064481\n"
     ]
    }
   ],
   "source": [
    "#Total votes in 2014 and in selected subset\n",
    "print(np.sum(test_election))\n",
    "print(np.sum(test_election.iloc[(preds > .7).flatten().tolist()]))\n",
    "\n",
    "#Percent voted in selected subset\n",
    "print(np.mean(test_election.iloc[(preds > .7).flatten().tolist()] == 1))"
   ]
  },
  {
   "cell_type": "code",
   "execution_count": 6,
   "metadata": {},
   "outputs": [
    {
     "data": {
      "image/png": "[encoded data removed]",
      "text/plain": [
       "<matplotlib.figure.Figure at 0x1a20711c88>"
      ]
     },
     "metadata": {},
     "output_type": "display_data"
    }
   ],
   "source": [
    "##ROC curve\n",
    "fpr, tpr, _ = roc_curve(test_election, preds)\n",
    "roc_auc = auc(fpr, tpr)\n",
    "# Compute micro-average ROC curve and ROC area\n",
    "\n",
    "plt.figure()\n",
    "lw = 2\n",
    "plt.plot(fpr, tpr, color='darkorange',\n",
    "         lw=lw, label='ROC curve (area = %0.2f)' % roc_auc)\n",
    "plt.plot([0, 1], [0, 1], color='navy', lw=lw, linestyle='--')\n",
    "plt.xlim([0.0, 1.0])\n",
    "plt.ylim([0.0, 1.05])\n",
    "plt.xlabel('False Positive Rate')\n",
    "plt.ylabel('True Positive Rate')\n",
    "plt.title('ROC Curve - Trainined on 2010 and Predicting 2014 Turnout')\n",
    "plt.legend(loc=\"lower right\")\n",
    "plt.show()"
   ]
  }
 ],
 "metadata": {
  "kernelspec": {
   "display_name": "Python 3",
   "language": "python",
   "name": "python3"
  },
  "language_info": {
   "codemirror_mode": {
    "name": "ipython",
    "version": 3
   },
   "file_extension": ".py",
   "mimetype": "text/x-python",
   "name": "python",
   "nbconvert_exporter": "python",
   "pygments_lexer": "ipython3",
   "version": "3.5.4"
  }
 },
 "nbformat": 4,
 "nbformat_minor": 2
}
